{
 "cells": [
  {
   "cell_type": "markdown",
   "metadata": {},
   "source": [
    "![](https://raw.githubusercontent.com/dssg/aequitas/master/src/aequitas_cli/utils/img/aequitas_report_header.png)\n"
   ]
  },
  {
   "cell_type": "markdown",
   "metadata": {},
   "source": [
    "Practitioners face the challenge of determining whether or not such patterns reflect bias or not. The fact that we have multiple ways to measure bias adds complexity to the decisionmaking process. With aequitas, we provide a tool that automates the reporting of various fairnes metrics to aid in this process.\n",
    "\n",
    "aequitas is compatible with: __Python X.X__.\n",
    "\n",
    "[Try it now](https://jzo5v1.axshare.com/home.html)\n",
    "or\n",
    "[Install on your computer](https://github.com/dssg/aequitas)\n",
    "\n"
   ]
  },
  {
   "cell_type": "markdown",
   "metadata": {},
   "source": [
    "# 30 seconds to *aequitas-report*: \n",
    "\n",
    "- With aequitas-report uncovering bias is as simple as running a single command on a csv.\n",
    "\n",
    "## Input machine learning predictions\n",
    "The input data at least has:  \n",
    "- score\n",
    "- label_value \n",
    "- group columns: e.g. race, sex\n",
    "\n",
    "[Getting started with input data](./input_data) \n",
    "\n",
    "Additionally, disparity is always defined in relation to a base group. By default, we use majority as the base group. [Defining a base group](./base_groups)\n",
    "\n",
    "\n"
   ]
  },
  {
   "cell_type": "markdown",
   "metadata": {},
   "source": [
    "## Get out measures of bias that you can tailor to your problem\n",
    "\n",
    "### Bias report \n",
    "\n",
    "< PDF >\n",
    "\n",
    "### Command line output: baseline measures\n",
    "\n",
    "____________________________________________________________________________\n",
    "                                     _ _            \n",
    "               __ _  ___  __ _ _   _(_) |_ __ _ ___ \n",
    "              / _` |/ _ \\/ _` | | | | | __/ _` / __| \n",
    "             | (_| |  __/ (_| | |_| | | || (_| \\__ \\ \n",
    "              \\__,_|\\___|\\__, |\\__,_|_|\\__\\__,_|___/\n",
    "                            |_|                            \n",
    "\n",
    "____________________________________________________________________________  \n",
    "\n",
    "                    Bias and Fairness Analysis\n",
    "\n",
    "\n",
    "\n",
    "```{bash}\n",
    "INFO:root:loading csv data...\n",
    "model_id, thresholds 1 {'rank_abs': [383]}\n",
    "Feature Columns (Groups): ['race' 'sex' 'age_cat']\n",
    "COUNTS::: race\n",
    "African-American    3696\n",
    "Asian                 32\n",
    "Caucasian           2454\n",
    "Hispanic             637\n",
    "Native American       18\n",
    "Other                377\n",
    "Name: entity_id, dtype: int64\n",
    "COUNTS::: sex\n",
    "Female    1395\n",
    "Male      5819\n",
    "Name: entity_id, dtype: int64\n",
    "COUNTS::: age_cat\n",
    "25 - 45            4109\n",
    "Greater than 45    1576\n",
    "Less than 25       1529\n",
    "Name: entity_id, dtype: int64\n",
    "df shape from the crosstabs: (11, 26)\n",
    "get_disparity_major_group()\n",
    "number of rows after bias majority ref group: 11\n",
    "Any NaN?:  False\n",
    "df shape after bias minimum per metric ref group: (11, 38)\n",
    "```\n",
    "\n",
    "___\n",
    "The first section of the commandline outputs provides an overview of counts by subgroups.\n",
    "\n",
    "### Commandline output: Bias and Disparity Metrics\n",
    "\n",
    "The bias metrics table includes measures of bias and disparity at three levels: \n",
    "\n",
    "- Overall fairness\n",
    "- *`attribute` level*\n",
    "\n",
    "[understanding output](./output_data)"
   ]
  }
 ],
 "metadata": {
  "kernelspec": {
   "display_name": "Python 3",
   "language": "python",
   "name": "python3"
  },
  "language_info": {
   "codemirror_mode": {
    "name": "ipython",
    "version": 3
   },
   "file_extension": ".py",
   "mimetype": "text/x-python",
   "name": "python",
   "nbconvert_exporter": "python",
   "pygments_lexer": "ipython3",
   "version": "3.6.4"
  }
 },
 "nbformat": 4,
 "nbformat_minor": 2
}
